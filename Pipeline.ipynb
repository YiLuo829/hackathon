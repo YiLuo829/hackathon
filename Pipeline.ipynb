{
 "cells": [
  {
   "cell_type": "markdown",
   "metadata": {},
   "source": [
    "### install dependencies"
   ]
  },
  {
   "cell_type": "code",
   "execution_count": 64,
   "metadata": {
    "collapsed": true
   },
   "outputs": [
    {
     "name": "stdout",
     "output_type": "stream",
     "text": [
      "Requirement already satisfied: pandas in ./env/lib/python3.6/site-packages (0.23.1)\n",
      "Requirement already satisfied: scikit-learn in ./env/lib/python3.6/site-packages (0.19.1)\n",
      "Collecting scipy\n",
      "\u001b[?25l  Downloading https://files.pythonhosted.org/packages/a0/b6/70bf61c1badb5fea82d4c558e05e76c2dee5e77bb072fe465d7c7a87287d/scipy-1.1.0-cp36-cp36m-macosx_10_6_intel.macosx_10_9_intel.macosx_10_9_x86_64.macosx_10_10_intel.macosx_10_10_x86_64.whl (16.7MB)\n",
      "\u001b[K    100% |████████████████████████████████| 16.7MB 2.6MB/s eta 0:00:01   27% |████████▊                       | 4.5MB 25.2MB/s eta 0:00:01    82% |██████████████████████████▍     | 13.7MB 64.7MB/s eta 0:00:01\n",
      "\u001b[?25hRequirement already satisfied: python-dateutil>=2.5.0 in ./env/lib/python3.6/site-packages (from pandas) (2.7.3)\n",
      "Requirement already satisfied: numpy>=1.9.0 in ./env/lib/python3.6/site-packages (from pandas) (1.14.5)\n",
      "Requirement already satisfied: pytz>=2011k in ./env/lib/python3.6/site-packages (from pandas) (2018.4)\n",
      "Requirement already satisfied: six>=1.5 in ./env/lib/python3.6/site-packages (from python-dateutil>=2.5.0->pandas) (1.11.0)\n",
      "Installing collected packages: scipy\n",
      "Successfully installed scipy-1.1.0\n"
     ]
    }
   ],
   "source": [
    "! pip install pandas scikit-learn scipy"
   ]
  },
  {
   "cell_type": "code",
   "execution_count": 219,
   "metadata": {},
   "outputs": [],
   "source": [
    "import pandas as pd\n",
    "import re\n",
    "from sklearn.linear_model import LogisticRegression\n",
    "from sklearn.model_selection import train_test_split"
   ]
  },
  {
   "cell_type": "code",
   "execution_count": 220,
   "metadata": {},
   "outputs": [],
   "source": [
    "from sklearn.ensemble import RandomForestRegressor\n",
    "from sklearn.ensemble import RandomForestClassifier\n",
    "from sklearn.preprocessing import StandardScaler"
   ]
  },
  {
   "cell_type": "markdown",
   "metadata": {},
   "source": [
    "### read csv"
   ]
  },
  {
   "cell_type": "code",
   "execution_count": 221,
   "metadata": {},
   "outputs": [],
   "source": [
    "df = pd.read_csv('/Users/zen/Downloads/Hackathon team tasks - Salesforce reachout data.csv')"
   ]
  },
  {
   "cell_type": "markdown",
   "metadata": {},
   "source": [
    "### cleanup column names"
   ]
  },
  {
   "cell_type": "code",
   "execution_count": 223,
   "metadata": {},
   "outputs": [],
   "source": [
    "def snake_case(s):\n",
    "    return re.sub(r'\\s+','_',re.sub(r'[^\\w]',' ', s)).lower()"
   ]
  },
  {
   "cell_type": "code",
   "execution_count": 224,
   "metadata": {},
   "outputs": [],
   "source": [
    "df.columns = [snake_case(c) for c in df.columns]"
   ]
  },
  {
   "cell_type": "code",
   "execution_count": 225,
   "metadata": {},
   "outputs": [
    {
     "data": {
      "text/html": [
       "<div>\n",
       "<style scoped>\n",
       "    .dataframe tbody tr th:only-of-type {\n",
       "        vertical-align: middle;\n",
       "    }\n",
       "\n",
       "    .dataframe tbody tr th {\n",
       "        vertical-align: top;\n",
       "    }\n",
       "\n",
       "    .dataframe thead th {\n",
       "        text-align: right;\n",
       "    }\n",
       "</style>\n",
       "<table border=\"1\" class=\"dataframe\">\n",
       "  <thead>\n",
       "    <tr style=\"text-align: right;\">\n",
       "      <th></th>\n",
       "      <th>account_name</th>\n",
       "      <th>lead_source</th>\n",
       "      <th>type</th>\n",
       "      <th>created_date</th>\n",
       "      <th>stage</th>\n",
       "      <th>close_date</th>\n",
       "      <th>billing_state_province</th>\n",
       "      <th>customer_size_band</th>\n",
       "    </tr>\n",
       "  </thead>\n",
       "  <tbody>\n",
       "    <tr>\n",
       "      <th>0</th>\n",
       "      <td>eShares Inc</td>\n",
       "      <td>Organic</td>\n",
       "      <td>Cancelled Customer</td>\n",
       "      <td>3/14/2017</td>\n",
       "      <td>Closed Lost</td>\n",
       "      <td>11/30/2017</td>\n",
       "      <td>California</td>\n",
       "      <td>151 - 200</td>\n",
       "    </tr>\n",
       "    <tr>\n",
       "      <th>1</th>\n",
       "      <td>Complete Nutrition</td>\n",
       "      <td>Sponsored Email</td>\n",
       "      <td>Cancelled Customer</td>\n",
       "      <td>4/6/2016</td>\n",
       "      <td>Disqualified</td>\n",
       "      <td>4/6/2016</td>\n",
       "      <td>Nebraska</td>\n",
       "      <td>201 - 250</td>\n",
       "    </tr>\n",
       "    <tr>\n",
       "      <th>2</th>\n",
       "      <td>Smart Metals Recycling</td>\n",
       "      <td>ZoomInfo</td>\n",
       "      <td>Cancelled Customer</td>\n",
       "      <td>11/10/2017</td>\n",
       "      <td>Disqualified</td>\n",
       "      <td>1/12/2018</td>\n",
       "      <td>North Carolina</td>\n",
       "      <td>51 - 100</td>\n",
       "    </tr>\n",
       "    <tr>\n",
       "      <th>3</th>\n",
       "      <td>Business Systems - Test Account</td>\n",
       "      <td>Blog Subscriber</td>\n",
       "      <td>Existing Business</td>\n",
       "      <td>5/14/2018</td>\n",
       "      <td>Closed Won</td>\n",
       "      <td>5/18/2018</td>\n",
       "      <td>NaN</td>\n",
       "      <td>1000+</td>\n",
       "    </tr>\n",
       "    <tr>\n",
       "      <th>4</th>\n",
       "      <td>Business Systems - Test Account</td>\n",
       "      <td>Blog Subscriber</td>\n",
       "      <td>Existing Business</td>\n",
       "      <td>5/18/2018</td>\n",
       "      <td>Qualified</td>\n",
       "      <td>7/31/2020</td>\n",
       "      <td>NaN</td>\n",
       "      <td>1000+</td>\n",
       "    </tr>\n",
       "  </tbody>\n",
       "</table>\n",
       "</div>"
      ],
      "text/plain": [
       "                      account_name      lead_source                type  \\\n",
       "0                      eShares Inc          Organic  Cancelled Customer   \n",
       "1               Complete Nutrition  Sponsored Email  Cancelled Customer   \n",
       "2           Smart Metals Recycling         ZoomInfo  Cancelled Customer   \n",
       "3  Business Systems - Test Account  Blog Subscriber   Existing Business   \n",
       "4  Business Systems - Test Account  Blog Subscriber   Existing Business   \n",
       "\n",
       "  created_date         stage  close_date billing_state_province  \\\n",
       "0    3/14/2017   Closed Lost  11/30/2017             California   \n",
       "1     4/6/2016  Disqualified    4/6/2016               Nebraska   \n",
       "2   11/10/2017  Disqualified   1/12/2018         North Carolina   \n",
       "3    5/14/2018    Closed Won   5/18/2018                    NaN   \n",
       "4    5/18/2018     Qualified   7/31/2020                    NaN   \n",
       "\n",
       "  customer_size_band  \n",
       "0          151 - 200  \n",
       "1          201 - 250  \n",
       "2           51 - 100  \n",
       "3              1000+  \n",
       "4              1000+  "
      ]
     },
     "execution_count": 225,
     "metadata": {},
     "output_type": "execute_result"
    }
   ],
   "source": [
    "df.head()"
   ]
  },
  {
   "cell_type": "markdown",
   "metadata": {},
   "source": [
    "### create datetime"
   ]
  },
  {
   "cell_type": "code",
   "execution_count": 153,
   "metadata": {},
   "outputs": [],
   "source": [
    "df['created_date'] = pd.to_datetime(df['created_date'])"
   ]
  },
  {
   "cell_type": "markdown",
   "metadata": {},
   "source": [
    "### drop duplicates (keep newest created_date)"
   ]
  },
  {
   "cell_type": "code",
   "execution_count": 154,
   "metadata": {},
   "outputs": [],
   "source": [
    "df = df.sort_values(by=['created_date'], ascending=False).drop_duplicates(subset='account_name')"
   ]
  },
  {
   "cell_type": "markdown",
   "metadata": {},
   "source": [
    "### filter to one city"
   ]
  },
  {
   "cell_type": "code",
   "execution_count": 155,
   "metadata": {},
   "outputs": [],
   "source": [
    "df = df[df['billing_stateprovince'].isin(['New York', 'California'])]"
   ]
  },
  {
   "cell_type": "code",
   "execution_count": 156,
   "metadata": {},
   "outputs": [
    {
     "data": {
      "text/plain": [
       "California    2470\n",
       "New York      1316\n",
       "Name: billing_stateprovince, dtype: int64"
      ]
     },
     "execution_count": 156,
     "metadata": {},
     "output_type": "execute_result"
    }
   ],
   "source": [
    "df['billing_stateprovince'].value_counts()"
   ]
  },
  {
   "cell_type": "markdown",
   "metadata": {},
   "source": [
    "### filter to relevante stage"
   ]
  },
  {
   "cell_type": "code",
   "execution_count": 157,
   "metadata": {},
   "outputs": [],
   "source": [
    "df = df[df['stage'].isin(('Closed Lost','Disqualified','Closed Won'))]"
   ]
  },
  {
   "cell_type": "code",
   "execution_count": 158,
   "metadata": {},
   "outputs": [
    {
     "data": {
      "text/plain": [
       "Closed Lost     1915\n",
       "Disqualified     902\n",
       "Closed Won       442\n",
       "Name: stage, dtype: int64"
      ]
     },
     "execution_count": 158,
     "metadata": {},
     "output_type": "execute_result"
    }
   ],
   "source": [
    "df['stage'].value_counts()"
   ]
  },
  {
   "cell_type": "markdown",
   "metadata": {},
   "source": [
    "### make bands into floats"
   ]
  },
  {
   "cell_type": "code",
   "execution_count": 148,
   "metadata": {},
   "outputs": [],
   "source": [
    "def band_to_int(b):\n",
    "    if not b:\n",
    "        return None\n",
    "    if b.lower() == 'null':\n",
    "        return None\n",
    "    if b == '1000+':\n",
    "        return 1000.0\n",
    "    else:\n",
    "        return float(b.split(' - ')[1])"
   ]
  },
  {
   "cell_type": "code",
   "execution_count": 159,
   "metadata": {},
   "outputs": [],
   "source": [
    "df['customer_size_band'] = df['customer_size_band'].apply(band_to_int).astype(float)"
   ]
  },
  {
   "cell_type": "code",
   "execution_count": 160,
   "metadata": {},
   "outputs": [
    {
     "data": {
      "text/plain": [
       "50.0      835\n",
       "100.0     808\n",
       "150.0     467\n",
       "500.0     389\n",
       "1000.0    297\n",
       "200.0     283\n",
       "250.0     171\n",
       "Name: customer_size_band, dtype: int64"
      ]
     },
     "execution_count": 160,
     "metadata": {},
     "output_type": "execute_result"
    }
   ],
   "source": [
    "df['customer_size_band'].value_counts()"
   ]
  },
  {
   "cell_type": "markdown",
   "metadata": {},
   "source": [
    "### drop dates"
   ]
  },
  {
   "cell_type": "code",
   "execution_count": 161,
   "metadata": {},
   "outputs": [],
   "source": [
    "df.drop(['created_date','close_date'], inplace=True, axis=1)"
   ]
  },
  {
   "cell_type": "markdown",
   "metadata": {},
   "source": [
    "### set name to index"
   ]
  },
  {
   "cell_type": "code",
   "execution_count": 162,
   "metadata": {},
   "outputs": [],
   "source": [
    "df.set_index('account_name', inplace=True)"
   ]
  },
  {
   "cell_type": "markdown",
   "metadata": {},
   "source": [
    "### drop nulls"
   ]
  },
  {
   "cell_type": "code",
   "execution_count": 177,
   "metadata": {},
   "outputs": [],
   "source": [
    "df.dropna(inplace=True)"
   ]
  },
  {
   "cell_type": "markdown",
   "metadata": {},
   "source": [
    "### make binary classifier"
   ]
  },
  {
   "cell_type": "code",
   "execution_count": 178,
   "metadata": {},
   "outputs": [],
   "source": [
    "features = pd.get_dummies(df.drop(labels=['stage'], axis=1))\n",
    "label = (df['stage'] == 'Closed Won')"
   ]
  },
  {
   "cell_type": "code",
   "execution_count": 179,
   "metadata": {},
   "outputs": [
    {
     "data": {
      "text/html": [
       "<div>\n",
       "<style scoped>\n",
       "    .dataframe tbody tr th:only-of-type {\n",
       "        vertical-align: middle;\n",
       "    }\n",
       "\n",
       "    .dataframe tbody tr th {\n",
       "        vertical-align: top;\n",
       "    }\n",
       "\n",
       "    .dataframe thead th {\n",
       "        text-align: right;\n",
       "    }\n",
       "</style>\n",
       "<table border=\"1\" class=\"dataframe\">\n",
       "  <thead>\n",
       "    <tr style=\"text-align: right;\">\n",
       "      <th></th>\n",
       "      <th>customer_size_band</th>\n",
       "      <th>lead_source_Advertisement</th>\n",
       "      <th>lead_source_Affiliate</th>\n",
       "      <th>lead_source_Blog Subscription</th>\n",
       "      <th>lead_source_CAHR</th>\n",
       "      <th>lead_source_Capterra</th>\n",
       "      <th>lead_source_Client (Additional Business)</th>\n",
       "      <th>lead_source_Client Referral</th>\n",
       "      <th>lead_source_Cold Email</th>\n",
       "      <th>lead_source_Consultant</th>\n",
       "      <th>...</th>\n",
       "      <th>lead_source_TheMakeGood</th>\n",
       "      <th>lead_source_Webinar</th>\n",
       "      <th>lead_source_Word of mouth</th>\n",
       "      <th>lead_source_ZoomInfo</th>\n",
       "      <th>type_Cancelled Customer</th>\n",
       "      <th>type_Existing Business</th>\n",
       "      <th>type_New Business</th>\n",
       "      <th>type_Renewal</th>\n",
       "      <th>billing_stateprovince_California</th>\n",
       "      <th>billing_stateprovince_New York</th>\n",
       "    </tr>\n",
       "    <tr>\n",
       "      <th>account_name</th>\n",
       "      <th></th>\n",
       "      <th></th>\n",
       "      <th></th>\n",
       "      <th></th>\n",
       "      <th></th>\n",
       "      <th></th>\n",
       "      <th></th>\n",
       "      <th></th>\n",
       "      <th></th>\n",
       "      <th></th>\n",
       "      <th></th>\n",
       "      <th></th>\n",
       "      <th></th>\n",
       "      <th></th>\n",
       "      <th></th>\n",
       "      <th></th>\n",
       "      <th></th>\n",
       "      <th></th>\n",
       "      <th></th>\n",
       "      <th></th>\n",
       "      <th></th>\n",
       "    </tr>\n",
       "  </thead>\n",
       "  <tbody>\n",
       "    <tr>\n",
       "      <th>Samasource</th>\n",
       "      <td>500.0</td>\n",
       "      <td>0</td>\n",
       "      <td>0</td>\n",
       "      <td>0</td>\n",
       "      <td>0</td>\n",
       "      <td>0</td>\n",
       "      <td>0</td>\n",
       "      <td>0</td>\n",
       "      <td>0</td>\n",
       "      <td>0</td>\n",
       "      <td>...</td>\n",
       "      <td>0</td>\n",
       "      <td>0</td>\n",
       "      <td>0</td>\n",
       "      <td>0</td>\n",
       "      <td>0</td>\n",
       "      <td>0</td>\n",
       "      <td>1</td>\n",
       "      <td>0</td>\n",
       "      <td>1</td>\n",
       "      <td>0</td>\n",
       "    </tr>\n",
       "    <tr>\n",
       "      <th>Psyonix, Inc.</th>\n",
       "      <td>150.0</td>\n",
       "      <td>0</td>\n",
       "      <td>0</td>\n",
       "      <td>0</td>\n",
       "      <td>0</td>\n",
       "      <td>0</td>\n",
       "      <td>1</td>\n",
       "      <td>0</td>\n",
       "      <td>0</td>\n",
       "      <td>0</td>\n",
       "      <td>...</td>\n",
       "      <td>0</td>\n",
       "      <td>0</td>\n",
       "      <td>0</td>\n",
       "      <td>0</td>\n",
       "      <td>0</td>\n",
       "      <td>1</td>\n",
       "      <td>0</td>\n",
       "      <td>0</td>\n",
       "      <td>1</td>\n",
       "      <td>0</td>\n",
       "    </tr>\n",
       "    <tr>\n",
       "      <th>Bivio Networks</th>\n",
       "      <td>50.0</td>\n",
       "      <td>0</td>\n",
       "      <td>0</td>\n",
       "      <td>0</td>\n",
       "      <td>0</td>\n",
       "      <td>0</td>\n",
       "      <td>0</td>\n",
       "      <td>0</td>\n",
       "      <td>0</td>\n",
       "      <td>0</td>\n",
       "      <td>...</td>\n",
       "      <td>0</td>\n",
       "      <td>0</td>\n",
       "      <td>0</td>\n",
       "      <td>0</td>\n",
       "      <td>0</td>\n",
       "      <td>0</td>\n",
       "      <td>1</td>\n",
       "      <td>0</td>\n",
       "      <td>1</td>\n",
       "      <td>0</td>\n",
       "    </tr>\n",
       "    <tr>\n",
       "      <th>Americord Registry</th>\n",
       "      <td>50.0</td>\n",
       "      <td>0</td>\n",
       "      <td>0</td>\n",
       "      <td>0</td>\n",
       "      <td>0</td>\n",
       "      <td>0</td>\n",
       "      <td>0</td>\n",
       "      <td>0</td>\n",
       "      <td>0</td>\n",
       "      <td>0</td>\n",
       "      <td>...</td>\n",
       "      <td>0</td>\n",
       "      <td>0</td>\n",
       "      <td>0</td>\n",
       "      <td>0</td>\n",
       "      <td>0</td>\n",
       "      <td>1</td>\n",
       "      <td>0</td>\n",
       "      <td>0</td>\n",
       "      <td>0</td>\n",
       "      <td>1</td>\n",
       "    </tr>\n",
       "    <tr>\n",
       "      <th>Matador Network</th>\n",
       "      <td>50.0</td>\n",
       "      <td>0</td>\n",
       "      <td>0</td>\n",
       "      <td>0</td>\n",
       "      <td>0</td>\n",
       "      <td>0</td>\n",
       "      <td>0</td>\n",
       "      <td>0</td>\n",
       "      <td>0</td>\n",
       "      <td>0</td>\n",
       "      <td>...</td>\n",
       "      <td>0</td>\n",
       "      <td>0</td>\n",
       "      <td>0</td>\n",
       "      <td>0</td>\n",
       "      <td>0</td>\n",
       "      <td>0</td>\n",
       "      <td>1</td>\n",
       "      <td>0</td>\n",
       "      <td>1</td>\n",
       "      <td>0</td>\n",
       "    </tr>\n",
       "  </tbody>\n",
       "</table>\n",
       "<p>5 rows × 57 columns</p>\n",
       "</div>"
      ],
      "text/plain": [
       "                    customer_size_band  lead_source_Advertisement  \\\n",
       "account_name                                                        \n",
       "Samasource                       500.0                          0   \n",
       "Psyonix, Inc.                    150.0                          0   \n",
       "Bivio Networks                    50.0                          0   \n",
       "Americord Registry                50.0                          0   \n",
       "Matador Network                   50.0                          0   \n",
       "\n",
       "                    lead_source_Affiliate  lead_source_Blog Subscription  \\\n",
       "account_name                                                               \n",
       "Samasource                              0                              0   \n",
       "Psyonix, Inc.                           0                              0   \n",
       "Bivio Networks                          0                              0   \n",
       "Americord Registry                      0                              0   \n",
       "Matador Network                         0                              0   \n",
       "\n",
       "                    lead_source_CAHR  lead_source_Capterra  \\\n",
       "account_name                                                 \n",
       "Samasource                         0                     0   \n",
       "Psyonix, Inc.                      0                     0   \n",
       "Bivio Networks                     0                     0   \n",
       "Americord Registry                 0                     0   \n",
       "Matador Network                    0                     0   \n",
       "\n",
       "                    lead_source_Client (Additional Business)  \\\n",
       "account_name                                                   \n",
       "Samasource                                                 0   \n",
       "Psyonix, Inc.                                              1   \n",
       "Bivio Networks                                             0   \n",
       "Americord Registry                                         0   \n",
       "Matador Network                                            0   \n",
       "\n",
       "                    lead_source_Client Referral  lead_source_Cold Email  \\\n",
       "account_name                                                              \n",
       "Samasource                                    0                       0   \n",
       "Psyonix, Inc.                                 0                       0   \n",
       "Bivio Networks                                0                       0   \n",
       "Americord Registry                            0                       0   \n",
       "Matador Network                               0                       0   \n",
       "\n",
       "                    lead_source_Consultant               ...                \\\n",
       "account_name                                             ...                 \n",
       "Samasource                               0               ...                 \n",
       "Psyonix, Inc.                            0               ...                 \n",
       "Bivio Networks                           0               ...                 \n",
       "Americord Registry                       0               ...                 \n",
       "Matador Network                          0               ...                 \n",
       "\n",
       "                    lead_source_TheMakeGood  lead_source_Webinar  \\\n",
       "account_name                                                       \n",
       "Samasource                                0                    0   \n",
       "Psyonix, Inc.                             0                    0   \n",
       "Bivio Networks                            0                    0   \n",
       "Americord Registry                        0                    0   \n",
       "Matador Network                           0                    0   \n",
       "\n",
       "                    lead_source_Word of mouth  lead_source_ZoomInfo  \\\n",
       "account_name                                                          \n",
       "Samasource                                  0                     0   \n",
       "Psyonix, Inc.                               0                     0   \n",
       "Bivio Networks                              0                     0   \n",
       "Americord Registry                          0                     0   \n",
       "Matador Network                             0                     0   \n",
       "\n",
       "                    type_Cancelled Customer  type_Existing Business  \\\n",
       "account_name                                                          \n",
       "Samasource                                0                       0   \n",
       "Psyonix, Inc.                             0                       1   \n",
       "Bivio Networks                            0                       0   \n",
       "Americord Registry                        0                       1   \n",
       "Matador Network                           0                       0   \n",
       "\n",
       "                    type_New Business  type_Renewal  \\\n",
       "account_name                                          \n",
       "Samasource                          1             0   \n",
       "Psyonix, Inc.                       0             0   \n",
       "Bivio Networks                      1             0   \n",
       "Americord Registry                  0             0   \n",
       "Matador Network                     1             0   \n",
       "\n",
       "                    billing_stateprovince_California  \\\n",
       "account_name                                           \n",
       "Samasource                                         1   \n",
       "Psyonix, Inc.                                      1   \n",
       "Bivio Networks                                     1   \n",
       "Americord Registry                                 0   \n",
       "Matador Network                                    1   \n",
       "\n",
       "                    billing_stateprovince_New York  \n",
       "account_name                                        \n",
       "Samasource                                       0  \n",
       "Psyonix, Inc.                                    0  \n",
       "Bivio Networks                                   0  \n",
       "Americord Registry                               1  \n",
       "Matador Network                                  0  \n",
       "\n",
       "[5 rows x 57 columns]"
      ]
     },
     "execution_count": 179,
     "metadata": {},
     "output_type": "execute_result"
    }
   ],
   "source": [
    "features.head()"
   ]
  },
  {
   "cell_type": "markdown",
   "metadata": {},
   "source": [
    "### split into train/test"
   ]
  },
  {
   "cell_type": "code",
   "execution_count": 180,
   "metadata": {},
   "outputs": [],
   "source": [
    "x_train, x_test, y_train, y_test = train_test_split(features, label, test_size=.25, random_state=1)"
   ]
  },
  {
   "cell_type": "code",
   "execution_count": 198,
   "metadata": {},
   "outputs": [],
   "source": [
    "def scale_features(x_train, x_test, scaler_class=StandardScaler):\n",
    "    sc = scaler_class().fit(x_train)\n",
    "    x_train_scaled = sc.transform(x_train)\n",
    "    x_test_scaled = sc.transform(x_test)\n",
    "    \n",
    "    x_train_scaled = pd.DataFrame(x_train_scaled, columns=x_train.columns)\n",
    "    x_test_scaled = pd.DataFrame(x_test_scaled, columns=x_test.columns)\n",
    "    return x_train_scaled,  x_test_scaled, sc"
   ]
  },
  {
   "cell_type": "code",
   "execution_count": 196,
   "metadata": {},
   "outputs": [],
   "source": [
    "x_train_scaled, x_test_scaled, scaler = scale_features(x_train, x_test)"
   ]
  },
  {
   "cell_type": "code",
   "execution_count": 197,
   "metadata": {},
   "outputs": [
    {
     "data": {
      "text/html": [
       "<div>\n",
       "<style scoped>\n",
       "    .dataframe tbody tr th:only-of-type {\n",
       "        vertical-align: middle;\n",
       "    }\n",
       "\n",
       "    .dataframe tbody tr th {\n",
       "        vertical-align: top;\n",
       "    }\n",
       "\n",
       "    .dataframe thead th {\n",
       "        text-align: right;\n",
       "    }\n",
       "</style>\n",
       "<table border=\"1\" class=\"dataframe\">\n",
       "  <thead>\n",
       "    <tr style=\"text-align: right;\">\n",
       "      <th></th>\n",
       "      <th>customer_size_band</th>\n",
       "      <th>lead_source_Advertisement</th>\n",
       "      <th>lead_source_Affiliate</th>\n",
       "      <th>lead_source_Blog Subscription</th>\n",
       "      <th>lead_source_CAHR</th>\n",
       "      <th>lead_source_Capterra</th>\n",
       "      <th>lead_source_Client (Additional Business)</th>\n",
       "      <th>lead_source_Client Referral</th>\n",
       "      <th>lead_source_Cold Email</th>\n",
       "      <th>lead_source_Consultant</th>\n",
       "      <th>...</th>\n",
       "      <th>lead_source_TheMakeGood</th>\n",
       "      <th>lead_source_Webinar</th>\n",
       "      <th>lead_source_Word of mouth</th>\n",
       "      <th>lead_source_ZoomInfo</th>\n",
       "      <th>type_Cancelled Customer</th>\n",
       "      <th>type_Existing Business</th>\n",
       "      <th>type_New Business</th>\n",
       "      <th>type_Renewal</th>\n",
       "      <th>billing_stateprovince_California</th>\n",
       "      <th>billing_stateprovince_New York</th>\n",
       "    </tr>\n",
       "  </thead>\n",
       "  <tbody>\n",
       "    <tr>\n",
       "      <th>0</th>\n",
       "      <td>-0.504448</td>\n",
       "      <td>-0.040572</td>\n",
       "      <td>-0.141836</td>\n",
       "      <td>-0.040572</td>\n",
       "      <td>-0.020274</td>\n",
       "      <td>-0.064229</td>\n",
       "      <td>-0.185537</td>\n",
       "      <td>-0.070389</td>\n",
       "      <td>-0.028677</td>\n",
       "      <td>-0.04537</td>\n",
       "      <td>...</td>\n",
       "      <td>-0.028677</td>\n",
       "      <td>-0.040572</td>\n",
       "      <td>-0.028677</td>\n",
       "      <td>-0.130894</td>\n",
       "      <td>-0.020274</td>\n",
       "      <td>-0.320709</td>\n",
       "      <td>0.321488</td>\n",
       "      <td>0.0</td>\n",
       "      <td>-1.330059</td>\n",
       "      <td>1.330059</td>\n",
       "    </tr>\n",
       "    <tr>\n",
       "      <th>1</th>\n",
       "      <td>2.798630</td>\n",
       "      <td>-0.040572</td>\n",
       "      <td>-0.141836</td>\n",
       "      <td>-0.040572</td>\n",
       "      <td>-0.020274</td>\n",
       "      <td>-0.064229</td>\n",
       "      <td>-0.185537</td>\n",
       "      <td>-0.070389</td>\n",
       "      <td>-0.028677</td>\n",
       "      <td>-0.04537</td>\n",
       "      <td>...</td>\n",
       "      <td>-0.028677</td>\n",
       "      <td>-0.040572</td>\n",
       "      <td>-0.028677</td>\n",
       "      <td>-0.130894</td>\n",
       "      <td>-0.020274</td>\n",
       "      <td>-0.320709</td>\n",
       "      <td>0.321488</td>\n",
       "      <td>0.0</td>\n",
       "      <td>-1.330059</td>\n",
       "      <td>1.330059</td>\n",
       "    </tr>\n",
       "    <tr>\n",
       "      <th>2</th>\n",
       "      <td>0.963586</td>\n",
       "      <td>-0.040572</td>\n",
       "      <td>-0.141836</td>\n",
       "      <td>-0.040572</td>\n",
       "      <td>-0.020274</td>\n",
       "      <td>-0.064229</td>\n",
       "      <td>-0.185537</td>\n",
       "      <td>-0.070389</td>\n",
       "      <td>-0.028677</td>\n",
       "      <td>-0.04537</td>\n",
       "      <td>...</td>\n",
       "      <td>-0.028677</td>\n",
       "      <td>-0.040572</td>\n",
       "      <td>-0.028677</td>\n",
       "      <td>-0.130894</td>\n",
       "      <td>-0.020274</td>\n",
       "      <td>-0.320709</td>\n",
       "      <td>0.321488</td>\n",
       "      <td>0.0</td>\n",
       "      <td>0.751847</td>\n",
       "      <td>-0.751847</td>\n",
       "    </tr>\n",
       "    <tr>\n",
       "      <th>3</th>\n",
       "      <td>-0.504448</td>\n",
       "      <td>-0.040572</td>\n",
       "      <td>-0.141836</td>\n",
       "      <td>-0.040572</td>\n",
       "      <td>-0.020274</td>\n",
       "      <td>-0.064229</td>\n",
       "      <td>-0.185537</td>\n",
       "      <td>-0.070389</td>\n",
       "      <td>-0.028677</td>\n",
       "      <td>-0.04537</td>\n",
       "      <td>...</td>\n",
       "      <td>-0.028677</td>\n",
       "      <td>-0.040572</td>\n",
       "      <td>-0.028677</td>\n",
       "      <td>-0.130894</td>\n",
       "      <td>-0.020274</td>\n",
       "      <td>-0.320709</td>\n",
       "      <td>0.321488</td>\n",
       "      <td>0.0</td>\n",
       "      <td>-1.330059</td>\n",
       "      <td>1.330059</td>\n",
       "    </tr>\n",
       "    <tr>\n",
       "      <th>4</th>\n",
       "      <td>0.963586</td>\n",
       "      <td>-0.040572</td>\n",
       "      <td>-0.141836</td>\n",
       "      <td>-0.040572</td>\n",
       "      <td>-0.020274</td>\n",
       "      <td>-0.064229</td>\n",
       "      <td>-0.185537</td>\n",
       "      <td>-0.070389</td>\n",
       "      <td>-0.028677</td>\n",
       "      <td>-0.04537</td>\n",
       "      <td>...</td>\n",
       "      <td>-0.028677</td>\n",
       "      <td>-0.040572</td>\n",
       "      <td>-0.028677</td>\n",
       "      <td>-0.130894</td>\n",
       "      <td>-0.020274</td>\n",
       "      <td>-0.320709</td>\n",
       "      <td>0.321488</td>\n",
       "      <td>0.0</td>\n",
       "      <td>0.751847</td>\n",
       "      <td>-0.751847</td>\n",
       "    </tr>\n",
       "  </tbody>\n",
       "</table>\n",
       "<p>5 rows × 57 columns</p>\n",
       "</div>"
      ],
      "text/plain": [
       "   customer_size_band  lead_source_Advertisement  lead_source_Affiliate  \\\n",
       "0           -0.504448                  -0.040572              -0.141836   \n",
       "1            2.798630                  -0.040572              -0.141836   \n",
       "2            0.963586                  -0.040572              -0.141836   \n",
       "3           -0.504448                  -0.040572              -0.141836   \n",
       "4            0.963586                  -0.040572              -0.141836   \n",
       "\n",
       "   lead_source_Blog Subscription  lead_source_CAHR  lead_source_Capterra  \\\n",
       "0                      -0.040572         -0.020274             -0.064229   \n",
       "1                      -0.040572         -0.020274             -0.064229   \n",
       "2                      -0.040572         -0.020274             -0.064229   \n",
       "3                      -0.040572         -0.020274             -0.064229   \n",
       "4                      -0.040572         -0.020274             -0.064229   \n",
       "\n",
       "   lead_source_Client (Additional Business)  lead_source_Client Referral  \\\n",
       "0                                 -0.185537                    -0.070389   \n",
       "1                                 -0.185537                    -0.070389   \n",
       "2                                 -0.185537                    -0.070389   \n",
       "3                                 -0.185537                    -0.070389   \n",
       "4                                 -0.185537                    -0.070389   \n",
       "\n",
       "   lead_source_Cold Email  lead_source_Consultant  \\\n",
       "0               -0.028677                -0.04537   \n",
       "1               -0.028677                -0.04537   \n",
       "2               -0.028677                -0.04537   \n",
       "3               -0.028677                -0.04537   \n",
       "4               -0.028677                -0.04537   \n",
       "\n",
       "                ...                lead_source_TheMakeGood  \\\n",
       "0               ...                              -0.028677   \n",
       "1               ...                              -0.028677   \n",
       "2               ...                              -0.028677   \n",
       "3               ...                              -0.028677   \n",
       "4               ...                              -0.028677   \n",
       "\n",
       "   lead_source_Webinar  lead_source_Word of mouth  lead_source_ZoomInfo  \\\n",
       "0            -0.040572                  -0.028677             -0.130894   \n",
       "1            -0.040572                  -0.028677             -0.130894   \n",
       "2            -0.040572                  -0.028677             -0.130894   \n",
       "3            -0.040572                  -0.028677             -0.130894   \n",
       "4            -0.040572                  -0.028677             -0.130894   \n",
       "\n",
       "   type_Cancelled Customer  type_Existing Business  type_New Business  \\\n",
       "0                -0.020274               -0.320709           0.321488   \n",
       "1                -0.020274               -0.320709           0.321488   \n",
       "2                -0.020274               -0.320709           0.321488   \n",
       "3                -0.020274               -0.320709           0.321488   \n",
       "4                -0.020274               -0.320709           0.321488   \n",
       "\n",
       "   type_Renewal  billing_stateprovince_California  \\\n",
       "0           0.0                         -1.330059   \n",
       "1           0.0                         -1.330059   \n",
       "2           0.0                          0.751847   \n",
       "3           0.0                         -1.330059   \n",
       "4           0.0                          0.751847   \n",
       "\n",
       "   billing_stateprovince_New York  \n",
       "0                        1.330059  \n",
       "1                        1.330059  \n",
       "2                       -0.751847  \n",
       "3                        1.330059  \n",
       "4                       -0.751847  \n",
       "\n",
       "[5 rows x 57 columns]"
      ]
     },
     "execution_count": 197,
     "metadata": {},
     "output_type": "execute_result"
    }
   ],
   "source": [
    "x_train_scaled.head()"
   ]
  },
  {
   "cell_type": "code",
   "execution_count": 199,
   "metadata": {},
   "outputs": [],
   "source": [
    "rf_model = RandomForestRegressor()"
   ]
  },
  {
   "cell_type": "code",
   "execution_count": 200,
   "metadata": {},
   "outputs": [
    {
     "data": {
      "text/plain": [
       "RandomForestClassifier(bootstrap=True, class_weight=None, criterion='gini',\n",
       "            max_depth=None, max_features='auto', max_leaf_nodes=None,\n",
       "            min_impurity_decrease=0.0, min_impurity_split=None,\n",
       "            min_samples_leaf=1, min_samples_split=2,\n",
       "            min_weight_fraction_leaf=0.0, n_estimators=10, n_jobs=1,\n",
       "            oob_score=False, random_state=None, verbose=0,\n",
       "            warm_start=False)"
      ]
     },
     "execution_count": 200,
     "metadata": {},
     "output_type": "execute_result"
    }
   ],
   "source": [
    "model = RandomForestClassifier()\n",
    "model.fit(x_train, y_train)"
   ]
  },
  {
   "cell_type": "code",
   "execution_count": 201,
   "metadata": {},
   "outputs": [
    {
     "data": {
      "text/plain": [
       "0.9236453201970444"
      ]
     },
     "execution_count": 201,
     "metadata": {},
     "output_type": "execute_result"
    }
   ],
   "source": [
    "model.score(x_test_scaled, y_test)"
   ]
  },
  {
   "cell_type": "code",
   "execution_count": 202,
   "metadata": {},
   "outputs": [],
   "source": [
    "lr_model = LogisticRegression()"
   ]
  },
  {
   "cell_type": "code",
   "execution_count": 203,
   "metadata": {},
   "outputs": [
    {
     "data": {
      "text/plain": [
       "LogisticRegression(C=1.0, class_weight=None, dual=False, fit_intercept=True,\n",
       "          intercept_scaling=1, max_iter=100, multi_class='ovr', n_jobs=1,\n",
       "          penalty='l2', random_state=None, solver='liblinear', tol=0.0001,\n",
       "          verbose=0, warm_start=False)"
      ]
     },
     "execution_count": 203,
     "metadata": {},
     "output_type": "execute_result"
    }
   ],
   "source": [
    "lr_model.fit(x_train_scaled, y_train)"
   ]
  },
  {
   "cell_type": "code",
   "execution_count": 217,
   "metadata": {},
   "outputs": [],
   "source": [
    "y_predict = lr_model.predict_proba(x_test_scaled)"
   ]
  },
  {
   "cell_type": "code",
   "execution_count": 218,
   "metadata": {},
   "outputs": [
    {
     "data": {
      "text/plain": [
       "array([[0.92862836, 0.07137164],\n",
       "       [0.92439578, 0.07560422],\n",
       "       [0.94404194, 0.05595806],\n",
       "       ...,\n",
       "       [0.91314884, 0.08685116],\n",
       "       [0.9416896 , 0.0583104 ],\n",
       "       [0.95437688, 0.04562312]])"
      ]
     },
     "execution_count": 218,
     "metadata": {},
     "output_type": "execute_result"
    }
   ],
   "source": [
    "y_predict"
   ]
  },
  {
   "cell_type": "code",
   "execution_count": 204,
   "metadata": {},
   "outputs": [
    {
     "data": {
      "text/plain": [
       "0.9248768472906403"
      ]
     },
     "execution_count": 204,
     "metadata": {},
     "output_type": "execute_result"
    }
   ],
   "source": [
    "lr_model.score(x_test_scaled, y_test)"
   ]
  },
  {
   "cell_type": "code",
   "execution_count": 214,
   "metadata": {},
   "outputs": [
    {
     "data": {
      "text/html": [
       "<div>\n",
       "<style scoped>\n",
       "    .dataframe tbody tr th:only-of-type {\n",
       "        vertical-align: middle;\n",
       "    }\n",
       "\n",
       "    .dataframe tbody tr th {\n",
       "        vertical-align: top;\n",
       "    }\n",
       "\n",
       "    .dataframe thead th {\n",
       "        text-align: right;\n",
       "    }\n",
       "</style>\n",
       "<table border=\"1\" class=\"dataframe\">\n",
       "  <thead>\n",
       "    <tr style=\"text-align: right;\">\n",
       "      <th></th>\n",
       "      <th>coeff</th>\n",
       "    </tr>\n",
       "  </thead>\n",
       "  <tbody>\n",
       "    <tr>\n",
       "      <th>type_Existing Business</th>\n",
       "      <td>0.739441</td>\n",
       "    </tr>\n",
       "    <tr>\n",
       "      <th>lead_source_Partner</th>\n",
       "      <td>0.159234</td>\n",
       "    </tr>\n",
       "    <tr>\n",
       "      <th>lead_source_External Referral</th>\n",
       "      <td>0.155977</td>\n",
       "    </tr>\n",
       "    <tr>\n",
       "      <th>lead_source_Demo Namely</th>\n",
       "      <td>0.124842</td>\n",
       "    </tr>\n",
       "    <tr>\n",
       "      <th>lead_source_Outbound Linkedin</th>\n",
       "      <td>0.116797</td>\n",
       "    </tr>\n",
       "  </tbody>\n",
       "</table>\n",
       "</div>"
      ],
      "text/plain": [
       "                                  coeff\n",
       "type_Existing Business         0.739441\n",
       "lead_source_Partner            0.159234\n",
       "lead_source_External Referral  0.155977\n",
       "lead_source_Demo Namely        0.124842\n",
       "lead_source_Outbound Linkedin  0.116797"
      ]
     },
     "execution_count": 214,
     "metadata": {},
     "output_type": "execute_result"
    }
   ],
   "source": [
    "lr_model_coeff = pd.DataFrame(lr_model.coef_, columns=x_test_scaled.columns).T\n",
    "lr_model_coeff.columns = ['coeff']\n",
    "lr_model_coeff.sort_values('coeff', ascending=False).head()"
   ]
  },
  {
   "cell_type": "markdown",
   "metadata": {},
   "source": [
    "### export csv"
   ]
  },
  {
   "cell_type": "code",
   "execution_count": 46,
   "metadata": {},
   "outputs": [],
   "source": [
    "df.to_csv('./clean.csv')"
   ]
  },
  {
   "cell_type": "code",
   "execution_count": null,
   "metadata": {},
   "outputs": [],
   "source": []
  }
 ],
 "metadata": {
  "kernelspec": {
   "display_name": "Python 3",
   "language": "python",
   "name": "python3"
  },
  "language_info": {
   "codemirror_mode": {
    "name": "ipython",
    "version": 3
   },
   "file_extension": ".py",
   "mimetype": "text/x-python",
   "name": "python",
   "nbconvert_exporter": "python",
   "pygments_lexer": "ipython3",
   "version": "3.6.5"
  }
 },
 "nbformat": 4,
 "nbformat_minor": 2
}
